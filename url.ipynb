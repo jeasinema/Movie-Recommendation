{
 "cells": [
  {
   "cell_type": "code",
   "execution_count": 17,
   "metadata": {
    "collapsed": false
   },
   "outputs": [
    {
     "data": {
      "text/plain": [
       "('/Users/shawn/Desktop/trash/fengjie.jpg',\n",
       " <httplib.HTTPMessage instance at 0x105a76518>)"
      ]
     },
     "execution_count": 17,
     "metadata": {},
     "output_type": "execute_result"
    }
   ],
   "source": [
    "from urllib import urlretrieve\n",
    "url = \"http://a3.att.hudong.com/22/89/300001051406131452898160507_950.jpg\"\n",
    "urlretrieve(url, \"/Users/shawn/Desktop/trash/fengjie.jpg\")"
   ]
  },
  {
   "cell_type": "code",
   "execution_count": 11,
   "metadata": {
    "collapsed": false
   },
   "outputs": [],
   "source": [
    "import urllib2\n",
    "url = \"http://img1.imgtn.bdimg.com/it/u=1155447503,3876658488&fm=21&gp=0.jpg\"\n",
    "request = urllib2.Request(url)\n",
    "request.add_header('User-Agent', 'Mozilla/5.0 (Macintosh; Intel Mac OS X 10_9_4) AppleWebKit/537.77.4 (KHTML, like Gecko) Version/7.0.5 Safari/537.77.4')\n",
    "res = urllib2.urlopen(request)\n",
    "pic = res.read()\n",
    "with open(\"/Users/shawn/Desktop/trash/fengjie2.jpg\",\"w\") as f:\n",
    "    print >> f, pic"
   ]
  },
  {
   "cell_type": "code",
   "execution_count": 16,
   "metadata": {
    "collapsed": false
   },
   "outputs": [
    {
     "name": "stderr",
     "output_type": "stream",
     "text": [
      "\n"
     ]
    }
   ],
   "source": []
  }
 ],
 "metadata": {
  "kernelspec": {
   "display_name": "Python 2",
   "language": "python",
   "name": "python2"
  },
  "language_info": {
   "codemirror_mode": {
    "name": "ipython",
    "version": 2
   },
   "file_extension": ".py",
   "mimetype": "text/x-python",
   "name": "python",
   "nbconvert_exporter": "python",
   "pygments_lexer": "ipython2",
   "version": "2.7.10"
  }
 },
 "nbformat": 4,
 "nbformat_minor": 0
}
