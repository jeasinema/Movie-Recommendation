{
 "cells": [
  {
   "cell_type": "code",
   "execution_count": 1,
   "metadata": {
    "collapsed": false
   },
   "outputs": [
    {
     "name": "stderr",
     "output_type": "stream",
     "text": []
    },
    {
     "name": "stdout",
     "output_type": "stream",
     "text": [
      "preprocessing\n"
     ]
    },
    {
     "name": "stderr",
     "output_type": "stream",
     "text": [
      "Test:  94% |/////////////////////////////////////   | ETA:  0:00:00 134.02 kB/s\r",
      "Test:  96% |--------------------------------------  | ETA:  0:00:00 136.52 kB/s\r",
      "Test:  98% |\\\\\\\\\\\\\\\\\\\\\\\\\\\\\\\\\\\\\\\\\\\\\\\\\\\\\\\\\\\\\\\\\\\\\\\\\\\\\\ | ETA:  0:00:00 138.96 kB/s\r",
      "Test: 100% |||||||||||||||||||||||||||||||||||||||||| ETA:  0:00:00 140.93 kB/s\r",
      "Test: 100% |||||||||||||||||||||||||||||||||||||||||| Time: 0:00:06 140.92 kB/s\r\n"
     ]
    }
   ],
   "source": [
    "import urllib, os\n",
    "from progressbar import *\n",
    "\n",
    "widgets = ['Test: ', Percentage(), ' ', Bar(marker=RotatingMarker()), ' ', ETA(), ' ', FileTransferSpeed()]\n",
    "pbar = ProgressBar(widgets=widgets)\n",
    "\n",
    "def dlProgress(count, blockSize, totalSize):\n",
    "    if pbar.maxval is None:\n",
    "        pbar.maxval = totalSize\n",
    "        pbar.start()\n",
    "\n",
    "    pbar.update(min(count*blockSize, totalSize))\n",
    "\n",
    "def preprocessing():\n",
    "\n",
    "    dataset_url = 'http://files.grouplens.org/datasets/movielens/ml-latest-small.zip'\n",
    "    dataset_path = os.path.join('datasets', 'ml-latest-small.zip')\n",
    "    urllib.urlretrieve (dataset_url, dataset_path, reporthook=dlProgress)\n",
    "    pbar.finish()\n",
    "\n",
    "    pass\n",
    "\n",
    "if __name__ == \"__main__\":\n",
    "    print \"preprocessing\"\n",
    "    preprocessing()"
   ]
  },
  {
   "cell_type": "code",
   "execution_count": null,
   "metadata": {
    "collapsed": true
   },
   "outputs": [],
   "source": []
  }
 ],
 "metadata": {
  "kernelspec": {
   "display_name": "Python 2",
   "language": "python",
   "name": "python2"
  },
  "language_info": {
   "codemirror_mode": {
    "name": "ipython",
    "version": 2
   },
   "file_extension": ".py",
   "mimetype": "text/x-python",
   "name": "python",
   "nbconvert_exporter": "python",
   "pygments_lexer": "ipython2",
   "version": "2.7.10"
  }
 },
 "nbformat": 4,
 "nbformat_minor": 0
}
